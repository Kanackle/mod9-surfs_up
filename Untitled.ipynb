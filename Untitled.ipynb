{
 "cells": [
  {
   "cell_type": "code",
   "execution_count": 5,
   "id": "b03a4625",
   "metadata": {},
   "outputs": [
    {
     "name": "stdout",
     "output_type": "stream",
     "text": [
      "[42, 42, 19, 42, 19, 42, 19, 42, 19, 42]\n"
     ]
    }
   ],
   "source": [
    "x=1\n",
    "y=0\n",
    "\n",
    "array =[]\n",
    "while(x<11):\n",
    "    if(x == 3+2*y):\n",
    "        array.append(19)\n",
    "        y+=1\n",
    "    else:\n",
    "        array.append(42)\n",
    "    x+=1    \n",
    "        \n",
    "print(array)"
   ]
  },
  {
   "cell_type": "code",
   "execution_count": null,
   "id": "747065a1",
   "metadata": {},
   "outputs": [],
   "source": []
  }
 ],
 "metadata": {
  "kernelspec": {
   "display_name": "PythonData",
   "language": "python",
   "name": "pythondata"
  },
  "language_info": {
   "codemirror_mode": {
    "name": "ipython",
    "version": 3
   },
   "file_extension": ".py",
   "mimetype": "text/x-python",
   "name": "python",
   "nbconvert_exporter": "python",
   "pygments_lexer": "ipython3",
   "version": "3.7.13"
  }
 },
 "nbformat": 4,
 "nbformat_minor": 5
}
